{
 "cells": [
  {
   "cell_type": "code",
   "execution_count": 1,
   "metadata": {},
   "outputs": [],
   "source": [
    "import pymssql \n",
    "\n",
    "conn = pymssql.connect(\n",
    "    server='mipt.database.windows.net',\n",
    "    user='student03',\n",
    "    password='Student_03',\n",
    "    database='demo',\n",
    ")\n",
    "\n",
    "\n",
    "from tabulate import tabulate\n",
    "\n",
    "def exec(query: str):\n",
    "    cursor = conn.cursor()  \n",
    "    cursor.execute(query) \n",
    "    \n",
    "def q(query: str, *args):\n",
    "    cursor = conn.cursor()  \n",
    "    cursor.execute(query) \n",
    "    row = cursor.fetchone()  \n",
    "    rows = []\n",
    "    while row:  \n",
    "        rows.append(row)\n",
    "        row = cursor.fetchone()  \n",
    "    print(tabulate(rows, headers=args))"
   ]
  },
  {
   "cell_type": "code",
   "execution_count": 2,
   "metadata": {
    "azdata_cell_guid": "f3f4a615-4599-4148-8cc1-eb215fe34376"
   },
   "outputs": [
    {
     "name": "stdout",
     "output_type": "stream",
     "text": [
      "------  -  --------------------------\n",
      "master  1  2021-11-08 06:18:56.827000\n",
      "demo    5  2021-11-08 15:01:07.873000\n",
      "------  -  --------------------------\n"
     ]
    }
   ],
   "source": [
    "q(\"\"\"\n",
    "    SELECT name, database_id, create_date  \n",
    "    FROM sys.databases;  \n",
    "\"\"\")"
   ]
  },
  {
   "cell_type": "markdown",
   "metadata": {},
   "source": [
    "## Task 1"
   ]
  },
  {
   "attachments": {},
   "cell_type": "markdown",
   "metadata": {
    "azdata_cell_guid": "5576d159-9d99-4318-940f-64bdc7e2a649"
   },
   "source": [
    "**1 -**"
   ]
  },
  {
   "attachments": {},
   "cell_type": "markdown",
   "metadata": {
    "azdata_cell_guid": "8a372d1a-d011-4f28-9754-64f7ccfc4f3a"
   },
   "source": [
    "**2**"
   ]
  },
  {
   "attachments": {},
   "cell_type": "markdown",
   "metadata": {
    "azdata_cell_guid": "e603c81c-4b3f-4362-92d5-56b73483776d"
   },
   "source": [
    "**3**"
   ]
  },
  {
   "attachments": {},
   "cell_type": "markdown",
   "metadata": {
    "azdata_cell_guid": "d0a8bd80-e94a-4100-b5ae-a4737e9493f9"
   },
   "source": [
    "4"
   ]
  },
  {
   "attachments": {},
   "cell_type": "markdown",
   "metadata": {
    "azdata_cell_guid": "9a3614f4-4d75-473a-a943-bdd70021b822"
   },
   "source": [
    "5"
   ]
  },
  {
   "attachments": {},
   "cell_type": "markdown",
   "metadata": {
    "azdata_cell_guid": "6503fd08-a143-46dd-9394-5624b250b2cb"
   },
   "source": [
    "6"
   ]
  },
  {
   "attachments": {},
   "cell_type": "markdown",
   "metadata": {
    "azdata_cell_guid": "e5776609-f6d3-4423-8450-3af6ae596f3d"
   },
   "source": [
    "7"
   ]
  },
  {
   "attachments": {},
   "cell_type": "markdown",
   "metadata": {
    "azdata_cell_guid": "0f8963d1-01ed-43f4-afdc-325e27476a14"
   },
   "source": [
    "8\\. no"
   ]
  },
  {
   "attachments": {},
   "cell_type": "markdown",
   "metadata": {
    "azdata_cell_guid": "76a2b5cf-e258-4427-99cc-92962309cf6a"
   },
   "source": [
    "9\\. no"
   ]
  },
  {
   "attachments": {},
   "cell_type": "markdown",
   "metadata": {
    "azdata_cell_guid": "7cb0e346-6377-49e5-af4e-3afab019a0bc"
   },
   "source": [
    "10\\. no"
   ]
  },
  {
   "attachments": {},
   "cell_type": "markdown",
   "metadata": {
    "azdata_cell_guid": "6c7c94da-6f11-4da6-ba8c-4e8ca839c789"
   },
   "source": [
    "11\\. no"
   ]
  },
  {
   "attachments": {},
   "cell_type": "markdown",
   "metadata": {
    "azdata_cell_guid": "ef61875f-198a-4489-a9ea-f47b19370cef"
   },
   "source": [
    "12\\. no"
   ]
  },
  {
   "attachments": {},
   "cell_type": "markdown",
   "metadata": {
    "azdata_cell_guid": "f949d458-50bd-497f-81d3-b4a5daa29718"
   },
   "source": [
    "13\\. no"
   ]
  },
  {
   "attachments": {},
   "cell_type": "markdown",
   "metadata": {
    "azdata_cell_guid": "e8bf4a5e-4bf6-451a-a4ed-ddadfcff9e8a"
   },
   "source": [
    "14\\. no"
   ]
  },
  {
   "attachments": {},
   "cell_type": "markdown",
   "metadata": {
    "azdata_cell_guid": "a24c1b5a-f656-4400-bf7f-53d6fcd4bca2"
   },
   "source": [
    "15\\. no"
   ]
  },
  {
   "attachments": {},
   "cell_type": "markdown",
   "metadata": {
    "azdata_cell_guid": "9b57d1c2-ebab-4234-b77a-7e016d050a9d"
   },
   "source": [
    "16\\. no"
   ]
  },
  {
   "attachments": {},
   "cell_type": "markdown",
   "metadata": {
    "azdata_cell_guid": "55369d2a-7f0e-4ed2-93a5-2932ee765520"
   },
   "source": [
    "17\\. -"
   ]
  },
  {
   "attachments": {},
   "cell_type": "markdown",
   "metadata": {
    "azdata_cell_guid": "ae570418-3b10-4ef6-9231-0181cd6754f9"
   },
   "source": [
    "18. Сколько в среднем обслуживает клиентов менеджер филиала."
   ]
  },
  {
   "attachments": {},
   "cell_type": "markdown",
   "metadata": {
    "azdata_cell_guid": "6446178d-cd76-4e3e-b9a8-a77c9b0383cb"
   },
   "source": [
    "19. Сколько всего клиентов обслужил филиал за определенный период."
   ]
  },
  {
   "cell_type": "code",
   "execution_count": 5,
   "metadata": {
    "azdata_cell_guid": "f3f4a615-4599-4148-8cc1-eb215fe34376"
   },
   "outputs": [
    {
     "name": "stdout",
     "output_type": "stream",
     "text": [
      "  Clients served  Branch\n",
      "----------------  ---------------\n",
      "          360500  Екатеринбург\n",
      "            1063  ИнтернетМагазин\n",
      "          773092  Москва\n",
      "          424876  Новосибирск\n",
      "            6124  Пятигорск\n",
      "          351504  Самара\n"
     ]
    }
   ],
   "source": [
    "q(\"\"\"--sql\n",
    "    select count(sales.checkId), branch.branchName\n",
    "    from distributor.sales\n",
    "    inner join distributor.branch on (sales.branchId = branch.branchId)\n",
    "    group by sales.branchId, branch.branchName\n",
    "\"\"\", \"Clients served\", \"Branch\")"
   ]
  },
  {
   "attachments": {},
   "cell_type": "markdown",
   "metadata": {
    "azdata_cell_guid": "062468a5-32f5-4c5d-9d4d-ab2e988982c7"
   },
   "source": [
    "20. Какой менеджер обслужил в филиале, максимальное кол-во клиентов"
   ]
  },
  {
   "cell_type": "code",
   "execution_count": 6,
   "metadata": {
    "azdata_cell_guid": "3803d34d-3c31-4ea4-a3ad-82340859da9f"
   },
   "outputs": [
    {
     "name": "stdout",
     "output_type": "stream",
     "text": [
      "  id  surname    name      clients\n",
      "----  ---------  ------  ---------\n",
      "  82  Фирсова    Елена       78087\n"
     ]
    }
   ],
   "source": [
    "q(\"\"\"--sql\n",
    "    with temp(managerId, checksSold) as (\n",
    "        select salesManagerId, count(sales.checkId)\n",
    "        from distributor.sales\n",
    "        where salesManagerId is not Null\n",
    "        group by salesManagerId\n",
    "    )\n",
    "\n",
    "    select managerId, surname, [names], checksSold\n",
    "    from temp\n",
    "    inner join distributor.salesManager on (salesManager.salesManagerId = temp.managerId)\n",
    "    where checksSold = (\n",
    "        select max(checksSold)\n",
    "        from temp\n",
    "    )\n",
    "\"\"\", \"id\", \"surname\", \"name\", \"clients\")"
   ]
  },
  {
   "attachments": {},
   "cell_type": "markdown",
   "metadata": {
    "azdata_cell_guid": "8b1f63f0-d2c6-4021-9551-58c0593f4cc7"
   },
   "source": [
    "21. Какой менеджер, принес максимальную выручку в филиале за определенный месяц"
   ]
  },
  {
   "cell_type": "code",
   "execution_count": 57,
   "metadata": {
    "azdata_cell_guid": "2c2bbae6-63b2-4330-b631-1a25e1092b35",
    "tags": []
   },
   "outputs": [
    {
     "name": "stdout",
     "output_type": "stream",
     "text": [
      "  sales in rub    Manager ID\n",
      "--------------  ------------\n",
      "      185100\n",
      "       39019.8            53\n",
      "      218825              87\n",
      "      195663              88\n",
      "      343230              95\n",
      "      228000              96\n",
      "      122248             100\n",
      "      140315             131\n",
      "      202600             141\n",
      "       36000             152\n",
      "       40826.5           165\n",
      "      146192             197\n",
      "      138942             198\n",
      "       65312.4           204\n",
      "       36127.6           234\n",
      "       75093.4           238\n",
      "      411211             240\n"
     ]
    }
   ],
   "source": [
    "q(\"\"\"--sql\n",
    "    select max(salesRub) as maxSalesRub, salesManagerId\n",
    "    from distributor.sales \n",
    "    where\n",
    "        branchId = 4 and\n",
    "        month(dateId) = 8\n",
    "    group by salesManagerId\n",
    "\"\"\", \"sales in rub\", \"Manager ID\")"
   ]
  },
  {
   "attachments": {},
   "cell_type": "markdown",
   "metadata": {
    "azdata_cell_guid": "3e838f54-28bc-491b-bfec-bddb0ce70ed0"
   },
   "source": [
    "22. Рассчитать средний чек клиенту по выбранному менеджеру"
   ]
  },
  {
   "cell_type": "code",
   "execution_count": 59,
   "metadata": {
    "azdata_cell_guid": "d1b67538-d6b7-4bbb-b20b-f616030d7979",
    "tags": []
   },
   "outputs": [
    {
     "name": "stdout",
     "output_type": "stream",
     "text": [
      "  Average check  Sales manager surname\n",
      "---------------  -----------------------\n",
      "        1926.75  Аброскина\n",
      "        1094.02  Андреева\n",
      "        3219.91  Антонов\n",
      "       20129.1   Бакуров\n",
      "       19984.7   Баранов\n",
      "        2612.61  Баранов\n",
      "        4378.14  Березина\n",
      "        7175.51  БОТВИЧ\n",
      "        9753.49  Валов\n",
      "        3729.43  Васильев\n"
     ]
    }
   ],
   "source": [
    "q(\"\"\"--sql\n",
    "    select top(10) avg(salesRub), salesManager.surname\n",
    "    from distributor.sales\n",
    "    inner join distributor.salesManager on (salesManager.salesManagerId = sales.salesManagerId)\n",
    "    group by sales.salesManagerId, salesManager.surname\n",
    "\"\"\", \"Average check\", \"Sales manager surname\")"
   ]
  },
  {
   "attachments": {},
   "cell_type": "markdown",
   "metadata": {
    "azdata_cell_guid": "0b36599d-a47c-4608-bb0e-d7b1d7b0e23d"
   },
   "source": [
    "23. Рассчитать средний чек клиента по филиалу"
   ]
  },
  {
   "cell_type": "code",
   "execution_count": 60,
   "metadata": {
    "azdata_cell_guid": "79ed0460-4447-4440-b200-47978d6439cb"
   },
   "outputs": [
    {
     "name": "stdout",
     "output_type": "stream",
     "text": [
      "  Avarage check in rubles  Branch\n",
      "-------------------------  ---------------\n",
      "                  4584.42  Екатеринбург\n",
      "                  2142.03  ИнтернетМагазин\n",
      "                  7309.87  Москва\n",
      "                  5978.9   Новосибирск\n",
      "                 14346.4   Пятигорск\n",
      "                  4976.34  Самара\n"
     ]
    }
   ],
   "source": [
    "q(\"\"\"--sql\n",
    "    select avg(salesRub), branchName\n",
    "    from distributor.sales\n",
    "    inner join distributor.branch on (branch.branchId = sales.branchId)\n",
    "    group by branch.branchId, branchName\n",
    "\"\"\", \"Avarage check in rubles\", \"Branch\")"
   ]
  },
  {
   "attachments": {},
   "cell_type": "markdown",
   "metadata": {
    "azdata_cell_guid": "adecb2c1-5cef-4e50-ad3b-e76e13895d2c"
   },
   "source": [
    "24. Средний чек клиента по менеджерам внутри филиалов"
   ]
  },
  {
   "cell_type": "code",
   "execution_count": 10,
   "metadata": {
    "azdata_cell_guid": "26d74f89-de9c-47a7-8eb2-3e8761246b80"
   },
   "outputs": [],
   "source": [
    "# TODO "
   ]
  },
  {
   "attachments": {},
   "cell_type": "markdown",
   "metadata": {
    "azdata_cell_guid": "31bdb3ae-be05-4e1c-81a7-dbb935a98952"
   },
   "source": [
    "25"
   ]
  },
  {
   "cell_type": "code",
   "execution_count": 11,
   "metadata": {
    "azdata_cell_guid": "79a347c4-8155-4bd2-b553-b54aea07a00f"
   },
   "outputs": [],
   "source": [
    "# TODO "
   ]
  },
  {
   "attachments": {},
   "cell_type": "markdown",
   "metadata": {
    "azdata_cell_guid": "fdd5a165-c77b-4849-91f5-147455494be6"
   },
   "source": [
    "26"
   ]
  },
  {
   "cell_type": "code",
   "execution_count": 12,
   "metadata": {
    "azdata_cell_guid": "81e6632b-5ee5-4ead-b117-df4880311bf9"
   },
   "outputs": [],
   "source": [
    "# TODO "
   ]
  },
  {
   "attachments": {},
   "cell_type": "markdown",
   "metadata": {
    "azdata_cell_guid": "c36b4575-c130-4883-9d07-5b26025a1180"
   },
   "source": [
    "27. Рассчитать АВС товарных позиций"
   ]
  },
  {
   "cell_type": "code",
   "execution_count": 13,
   "metadata": {
    "azdata_cell_guid": "0b62b8e7-72e2-4e9e-ba2a-8be96e9303a0"
   },
   "outputs": [],
   "source": [
    "# TODO "
   ]
  },
  {
   "attachments": {},
   "cell_type": "markdown",
   "metadata": {
    "azdata_cell_guid": "2ac0b156-62cd-41b1-96fe-5686d826896a"
   },
   "source": [
    "28\\. -"
   ]
  },
  {
   "attachments": {},
   "cell_type": "markdown",
   "metadata": {
    "azdata_cell_guid": "c76285fb-f74c-4362-96d2-3817ce4be571"
   },
   "source": [
    "29\\. -"
   ]
  },
  {
   "attachments": {},
   "cell_type": "markdown",
   "metadata": {
    "azdata_cell_guid": "9507c0a1-f067-470e-b24e-b2c79f14121f"
   },
   "source": [
    "30\\. -"
   ]
  },
  {
   "attachments": {},
   "cell_type": "markdown",
   "metadata": {
    "azdata_cell_guid": "ae811eaf-f71a-49b6-8367-ef8311e53cf1"
   },
   "source": [
    "31\\. -"
   ]
  },
  {
   "attachments": {},
   "cell_type": "markdown",
   "metadata": {
    "azdata_cell_guid": "14b1df1f-ecaf-439b-8090-74fc0516d023"
   },
   "source": [
    "32. Есть менеджеры, которые продают в более чем одном филиале, найти их!"
   ]
  },
  {
   "cell_type": "code",
   "execution_count": 12,
   "metadata": {
    "azdata_cell_guid": "33b3cc3f-6552-4f17-804d-9b470e1f162e",
    "tags": []
   },
   "outputs": [
    {
     "name": "stdout",
     "output_type": "stream",
     "text": [
      "  ID    nBranches  Surname      Name\n",
      "----  -----------  -----------  ---------------\n",
      "   7            2  Березина     Стелла\n",
      "  10            2  Васильев     Дмитрий\n",
      "  13            2  Воробьева    Юлия\n",
      "   9            2  Валов        Игорь\n",
      "  19            2  Долганов     Геннадий\n",
      "  31            2  Карпухина    Елена Андреевна\n",
      "  28            2  Исакова      Евгения\n",
      "  20            2  Дудкина      Татьяна\n",
      "  74            2  Семенов      Олег\n",
      "  37            2  Комарова     Василина\n",
      "  53            2  Меньшиков    Сергей\n",
      "  47            2  Мальшин      Олег\n",
      "  67            3  Рензяк       Диана\n",
      "  76            2  Собакин      Денис\n",
      "  78            3  Ставицкая    Анастасия\n",
      "  85            2  Чуканова     Инна\n",
      "  87            2  Шашкина      Полина\n",
      "  89            2  Ширяев       Александр\n",
      "  83            2  Хакунов      Анзор\n",
      "  34            2  Ковалевская  Алёна\n",
      "  36            2  Комаров      Эдуард\n",
      "  54            2  Минеева      Ксения\n"
     ]
    }
   ],
   "source": [
    "q(\"\"\"--sql\n",
    "    with sms(managerId, numberOfBranches)\n",
    "    as\n",
    "    (\n",
    "        select sm.salesManagerId, count(distinct branch.branchId)\n",
    "        from distributor.sales\n",
    "        inner join distributor.branch on (sales.branchId = branch.branchId)\n",
    "        inner join distributor.salesManager as sm on (sales.salesManagerId = sm.salesManagerId)\n",
    "        group by sm.salesManagerId\n",
    "        having count(distinct branch.branchId) > 1\n",
    "    )\n",
    "\n",
    "    select managerId, numberOfBranches, salesManager.surname, salesManager.[names]\n",
    "    from sms\n",
    "    inner join distributor.salesManager on (sms.managerId = salesManager.salesManagerId)\n",
    "\"\"\", \"ID\", \"nBranches\", \"Surname\", \"Name\")"
   ]
  },
  {
   "attachments": {},
   "cell_type": "markdown",
   "metadata": {
    "azdata_cell_guid": "3feb3361-74a8-4302-ba46-fdbbb88a33da"
   },
   "source": [
    "33. Найти сумму продаж по менеджерам, со следующими условиями. Какими условиями?"
   ]
  },
  {
   "attachments": {},
   "cell_type": "markdown",
   "metadata": {
    "azdata_cell_guid": "86c12bef-c653-4e95-ba36-ebb60fda1754"
   },
   "source": [
    "34. Выгрузки с датами, различными. The fuck?"
   ]
  },
  {
   "attachments": {},
   "cell_type": "markdown",
   "metadata": {
    "azdata_cell_guid": "9be78cd2-feb1-4d2b-8215-232c0524c3ae"
   },
   "source": [
    "35. Показать, что среднее кол-во чеков и среднее по транзакции это разные вещи."
   ]
  },
  {
   "cell_type": "code",
   "execution_count": 15,
   "metadata": {
    "azdata_cell_guid": "1e22ca90-4853-4c82-9f82-1ee09a8cb184"
   },
   "outputs": [],
   "source": [
    "# todo"
   ]
  },
  {
   "attachments": {},
   "cell_type": "markdown",
   "metadata": {
    "azdata_cell_guid": "7552a52d-cb32-497d-9b4b-b8fddc307457"
   },
   "source": [
    "36\\. Найти количество уникальных счетов при условиях. Каких условиях?"
   ]
  },
  {
   "cell_type": "markdown",
   "metadata": {},
   "source": [
    "## Task 2"
   ]
  },
  {
   "cell_type": "code",
   "execution_count": null,
   "metadata": {},
   "outputs": [],
   "source": [
    "Рассчитать выручку компании в разрезе: Год – Месяц – Выручка компании. Представленные данные отсортировать: Год, Месяц"
   ]
  },
  {
   "cell_type": "code",
   "execution_count": 17,
   "metadata": {},
   "outputs": [
    {
     "name": "stdout",
     "output_type": "stream",
     "text": [
      "--------------\n",
      "   9.95263e+07\n",
      "   1.688e+08\n",
      "   1.32953e+08\n",
      "   1.57553e+08\n",
      "   1.8168e+08\n",
      "   1.47678e+08\n",
      "   1.70409e+08\n",
      "   1.92769e+08\n",
      "   1.93963e+08\n",
      "4933.8\n",
      "--------------\n"
     ]
    }
   ],
   "source": [
    "q(\"\"\"--sql\n",
    "    select top(10) sum(distributor.singleSales.salesRub)\n",
    "    from distributor.singleSales\n",
    "    group by\n",
    "        distributor.singleSales.companyName, \n",
    "        YEAR(distributor.singleSales.dateId),\n",
    "        month(distributor.singleSales.dateId)\n",
    "\"\"\")"
   ]
  }
 ],
 "metadata": {
  "interpreter": {
   "hash": "d5c0eb6442eed17bfaf636fc18310ab4580d81889f7a58949c6a1b3fd2fdc2e5"
  },
  "kernelspec": {
   "display_name": "Python 3.9.7 64-bit ('env': venv)",
   "language": "python",
   "name": "python3"
  },
  "language_info": {
   "codemirror_mode": {
    "name": "ipython",
    "version": 3
   },
   "file_extension": ".py",
   "mimetype": "text/x-python",
   "name": "python",
   "nbconvert_exporter": "python",
   "pygments_lexer": "ipython3",
   "version": "3.10.0"
  },
  "orig_nbformat": 4
 },
 "nbformat": 4,
 "nbformat_minor": 2
}
